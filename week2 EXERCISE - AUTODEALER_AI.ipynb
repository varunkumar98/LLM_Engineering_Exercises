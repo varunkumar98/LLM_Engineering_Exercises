{
 "cells": [
  {
   "cell_type": "markdown",
   "id": "d006b2ea-9dfe-49c7-88a9-a5a0775185fd",
   "metadata": {},
   "source": [
    "# AUTODEALER AI"
   ]
  },
  {
   "cell_type": "code",
   "execution_count": 2,
   "id": "a07e7793-b8f5-44f4-aded-5562f633271a",
   "metadata": {},
   "outputs": [],
   "source": [
    "#import packages\n",
    "import os\n",
    "import json\n",
    "from datetime import datetime, timedelta\n",
    "from dotenv import load_dotenv\n",
    "from openai import OpenAI\n",
    "import gradio as gr"
   ]
  },
  {
   "cell_type": "code",
   "execution_count": 3,
   "id": "98e64733-347e-4564-8595-85fe2015099e",
   "metadata": {},
   "outputs": [
    {
     "name": "stdout",
     "output_type": "stream",
     "text": [
      "OpenAI API Key exists and begins sk-proj-\n"
     ]
    }
   ],
   "source": [
    "#initialization\n",
    "load_dotenv(override=True)\n",
    "\n",
    "openai_api_key = os.getenv(\"OPENAI_API_KEY\")\n",
    "if openai_api_key:\n",
    "    print(f\"OpenAI API Key exists and begins {openai_api_key[:8]}\")\n",
    "else:\n",
    "    print(\"OpenAI API Key not set\")\n",
    "\n",
    "MODEL = \"gpt-4o-mini\"\n",
    "openai = OpenAI()"
   ]
  },
  {
   "cell_type": "code",
   "execution_count": 4,
   "id": "b7c4eff6-f1a1-434f-b5a5-40fe9cb6e9f2",
   "metadata": {},
   "outputs": [],
   "source": [
    "#System Prompt\n",
    "system_message = (\n",
    "    \"You are AutoDealer AI for a car dealership. \"\n",
    "    \"Answer in one short, courteous sentence. \"\n",
    "    \"Be accurate; if unsure, say you don’t know. \"\n",
    "    \"If the user asks for price, inventory, test drives, or payments, use tools.\"\n",
    ")"
   ]
  },
  {
   "cell_type": "code",
   "execution_count": 5,
   "id": "d181aece-b620-4a61-8404-fc441f97afc3",
   "metadata": {},
   "outputs": [],
   "source": [
    "# Basic price list keyed by (make, model, year)\n",
    "vehicle_prices = {\n",
    "    (\"Toyota\", \"Corolla\", 2021): 17950,\n",
    "    (\"Honda\", \"Civic\", 2020): 18500,\n",
    "    (\"Tesla\", \"Model 3\", 2022): 32900,\n",
    "    (\"Ford\", \"Escape\", 2019): 16900,\n",
    "    (\"Hyundai\", \"Kona\", 2021): 19950,\n",
    "}"
   ]
  },
  {
   "cell_type": "code",
   "execution_count": 6,
   "id": "a3136395-a120-4f90-869a-c6f56c2df3b8",
   "metadata": {},
   "outputs": [],
   "source": [
    "# Simple inventory items with features/tags for filtering\n",
    "inventory = [\n",
    "    {\n",
    "        \"id\": 101, \"make\": \"Toyota\", \"model\": \"Corolla\", \"year\": 2021,\n",
    "        \"body_type\": \"Sedan\", \"fuel\": \"Gas\", \"transmission\": \"Automatic\",\n",
    "        \"mileage\": 24000, \"price\": 17950, \"city\": \"Boston\",\n",
    "        \"features\": [\"adaptive_cruise\", \"lane_keep\", \"apple_carplay\"],\n",
    "    },\n",
    "    {\n",
    "        \"id\": 102, \"make\": \"Honda\", \"model\": \"Civic\", \"year\": 2020,\n",
    "        \"body_type\": \"Sedan\", \"fuel\": \"Gas\", \"transmission\": \"Automatic\",\n",
    "        \"mileage\": 30000, \"price\": 18500, \"city\": \"Boston\",\n",
    "        \"features\": [\"sunroof\", \"heated_seats\", \"carplay\"],\n",
    "    },\n",
    "    {\n",
    "        \"id\": 103, \"make\": \"Tesla\", \"model\": \"Model 3\", \"year\": 2022,\n",
    "        \"body_type\": \"Sedan\", \"fuel\": \"EV\", \"transmission\": \"Single-speed\",\n",
    "        \"mileage\": 12000, \"price\": 32900, \"city\": \"Cambridge\",\n",
    "        \"features\": [\"autopilot\", \"fast_charge\", \"nav\"],\n",
    "    },\n",
    "    {\n",
    "        \"id\": 104, \"make\": \"Ford\", \"model\": \"Escape\", \"year\": 2019,\n",
    "        \"body_type\": \"SUV\", \"fuel\": \"Gas\", \"transmission\": \"Automatic\",\n",
    "        \"mileage\": 41000, \"price\": 16900, \"city\": \"Somerville\",\n",
    "        \"features\": [\"awd\", \"blind_spot\", \"power_liftgate\"],\n",
    "    },\n",
    "    {\n",
    "        \"id\": 105, \"make\": \"Hyundai\", \"model\": \"Kona\", \"year\": 2021,\n",
    "        \"body_type\": \"SUV\", \"fuel\": \"Gas\", \"transmission\": \"Automatic\",\n",
    "        \"mileage\": 22000, \"price\": 19950, \"city\": \"Boston\",\n",
    "        \"features\": [\"adaptive_cruise\", \"lane_keep\", \"heated_seats\"],\n",
    "    },\n",
    "]"
   ]
  },
  {
   "cell_type": "code",
   "execution_count": 7,
   "id": "a608546b-65e4-4b17-b1d3-7a09b9849dd3",
   "metadata": {},
   "outputs": [],
   "source": [
    "# Let's generate test-drive slots for the next 5 days, 10am/1pm/3pm\n",
    "def generate_slots():\n",
    "    base = datetime.now().replace(minute=0, second=0, microsecond=0)\n",
    "    cities = [\"Boston\", \"Cambridge\", \"Somerville\"]\n",
    "    slots = []\n",
    "    for city in cities:\n",
    "        for d in range(5):\n",
    "            for hour in [10, 13, 15]:\n",
    "                slots.append({\n",
    "                    \"slot_id\": f\"{city[:3].upper()}-{d}-{hour}\",\n",
    "                    \"city\": city,\n",
    "                    \"datetime\": (base + timedelta(days=d)).replace(hour=hour),\n",
    "                    \"capacity\": 2,\n",
    "                    \"booked\": 0,\n",
    "                })\n",
    "    return slots\n",
    "\n",
    "test_drive_slots = generate_slots()"
   ]
  },
  {
   "cell_type": "code",
   "execution_count": 9,
   "id": "f0a33e81-2eb7-4fb6-9341-9ba0032d504e",
   "metadata": {},
   "outputs": [],
   "source": [
    "#Tool Implementations - Getting Vehicle Price\n",
    "def get_vehicle_price(make: str, model: str, year: int):\n",
    "    print(f\"Tool get_vehicle_price called for {make} {model} {year}\")\n",
    "    price = vehicle_prices.get((make.title(), model.title(), int(year)))\n",
    "    return {\"found\": price is not None, \"price\": price}"
   ]
  },
  {
   "cell_type": "code",
   "execution_count": 10,
   "id": "db74a251-c25d-4133-9ab8-c50f56742a72",
   "metadata": {},
   "outputs": [],
   "source": [
    "#Search Inventory\n",
    "def search_inventory(\n",
    "    make: str | None = None,\n",
    "    model: str | None = None,\n",
    "    body_type: str | None = None,\n",
    "    fuel: str | None = None,\n",
    "    max_price: float | None = None,\n",
    "    city: str | None = None,\n",
    "    features_csv: str | None = None,\n",
    "):\n",
    "    print(\"Tool search_inventory called\")\n",
    "    feat = [f.strip() for f in features_csv.split(\",\")] if features_csv else []\n",
    "    results = []\n",
    "    for item in inventory:\n",
    "        if make and item[\"make\"].lower() != make.lower(): \n",
    "            continue\n",
    "        if model and item[\"model\"].lower() != model.lower(): \n",
    "            continue\n",
    "        if body_type and item[\"body_type\"].lower() != body_type.lower(): \n",
    "            continue\n",
    "        if fuel and item[\"fuel\"].lower() != fuel.lower(): \n",
    "            continue\n",
    "        if city and item[\"city\"].lower() != city.lower():\n",
    "            continue\n",
    "        if max_price is not None and item[\"price\"] > float(max_price):\n",
    "            continue\n",
    "        if feat and not all(f in item[\"features\"] for f in feat):\n",
    "            continue\n",
    "        results.append(item)\n",
    "    return {\"count\": len(results), \"items\": results[:10]}"
   ]
  },
  {
   "cell_type": "code",
   "execution_count": 11,
   "id": "77e7a8b1-c415-43a4-8f86-3bfbcefb8231",
   "metadata": {},
   "outputs": [],
   "source": [
    "#Booking Test Drive\n",
    "def book_test_drive(city: str, slot_id: str, vehicle_id: int, customer_name: str, customer_email: str):\n",
    "    print(f\"Tool book_test_drive called for {city} slot {slot_id} vehicle {vehicle_id}\")\n",
    "    # Verify vehicle exists in that city\n",
    "    veh = next((v for v in inventory if v[\"id\"] == int(vehicle_id) and v[\"city\"].lower() == city.lower()), None)\n",
    "    if not veh:\n",
    "        return {\"success\": False, \"message\": \"Vehicle not found in that city.\"}\n",
    "\n",
    "    slot = next((s for s in test_drive_slots if s[\"slot_id\"] == slot_id and s[\"city\"].lower() == city.lower()), None)\n",
    "    if not slot:\n",
    "        return {\"success\": False, \"message\": \"Slot not found.\"}\n",
    "    if slot[\"booked\"] >= slot[\"capacity\"]:\n",
    "        return {\"success\": False, \"message\": \"Slot full.\"}\n",
    "\n",
    "    slot[\"booked\"] += 1\n",
    "    booking_id = f\"BK{slot_id}-{vehicle_id}-{slot['booked']}\"\n",
    "    return {\n",
    "        \"success\": True,\n",
    "        \"booking_id\": booking_id,\n",
    "        \"vehicle\": {\"id\": veh[\"id\"], \"title\": f\"{veh['year']} {veh['make']} {veh['model']}\"},\n",
    "        \"slot_time\": slot[\"datetime\"].isoformat(),\n",
    "        \"city\": slot[\"city\"],\n",
    "        \"customer_name\": customer_name,\n",
    "        \"customer_email\": customer_email,\n",
    "    }"
   ]
  },
  {
   "cell_type": "code",
   "execution_count": 12,
   "id": "4381f599-f421-4b63-bdcc-c4ebdbe39e3f",
   "metadata": {},
   "outputs": [],
   "source": [
    "#Listing Test Drive Slots\n",
    "def list_test_drive_slots(city: str):\n",
    "    print(f\"Tool list_test_drive_slots called for {city}\")\n",
    "    slots = [\n",
    "        {\n",
    "            \"slot_id\": s[\"slot_id\"],\n",
    "            \"datetime\": s[\"datetime\"].isoformat(),\n",
    "            \"available\": max(0, s[\"capacity\"] - s[\"booked\"]),\n",
    "        }\n",
    "        for s in test_drive_slots\n",
    "        if s[\"city\"].lower() == city.lower()\n",
    "    ]\n",
    "    return {\"count\": len(slots), \"slots\": slots[:15]}"
   ]
  },
  {
   "cell_type": "code",
   "execution_count": 13,
   "id": "06f953af-98b8-4a99-9b1b-8a2a9f8ae7f7",
   "metadata": {},
   "outputs": [],
   "source": [
    "#Estimate Payment\n",
    "def estimate_payment(price: float, down_payment: float, apr_percent: float, term_months: int):\n",
    "    \"\"\"\n",
    "    Simple fixed-rate loan monthly payment (P * r * (1+r)^n) / ((1+r)^n - 1)\n",
    "    where P = price - down, r = APR/12, n = term_months\n",
    "    \"\"\"\n",
    "    print(\"Tool estimate_payment called\")\n",
    "    principal = max(0.0, float(price) - float(down_payment))\n",
    "    r = float(apr_percent) / 100.0 / 12.0\n",
    "    n = int(term_months)\n",
    "    if principal == 0 or n <= 0:\n",
    "        return {\"monthly\": 0.0, \"total_interest\": 0.0}\n",
    "    if r == 0:\n",
    "        monthly = principal / n\n",
    "        total_interest = 0.0\n",
    "    else:\n",
    "        monthly = principal * r * (1 + r) ** n / ((1 + r) ** n - 1)\n",
    "        total_interest = monthly * n - principal\n",
    "    return {\"monthly\": round(monthly, 2), \"total_interest\": round(total_interest, 2)}"
   ]
  },
  {
   "cell_type": "code",
   "execution_count": 14,
   "id": "5f7d813d-eea4-43de-8397-ac2da642dd80",
   "metadata": {},
   "outputs": [],
   "source": [
    "#Tool Schema - For function calling\n",
    "price_function = {\n",
    "    \"name\": \"get_vehicle_price\",\n",
    "    \"description\": \"Get MSRP/lot price for a specific car.\",\n",
    "    \"parameters\": {\n",
    "        \"type\": \"object\",\n",
    "        \"properties\": {\n",
    "            \"make\": {\"type\": \"string\", \"description\": \"Car make, e.g., Toyota\"},\n",
    "            \"model\": {\"type\": \"string\", \"description\": \"Car model, e.g., Corolla\"},\n",
    "            \"year\": {\"type\": \"integer\", \"description\": \"Car model year, e.g., 2021\"},\n",
    "        },\n",
    "        \"required\": [\"make\", \"model\", \"year\"],\n",
    "        \"additionalProperties\": False,\n",
    "    },\n",
    "}"
   ]
  },
  {
   "cell_type": "code",
   "execution_count": 15,
   "id": "c0df313c-829c-47d1-95cf-ba5166ecb9e1",
   "metadata": {},
   "outputs": [],
   "source": [
    "#Inventory Function\n",
    "inventory_function = {\n",
    "    \"name\": \"search_inventory\",\n",
    "    \"description\": \"Search available vehicles by filters.\",\n",
    "    \"parameters\": {\n",
    "        \"type\": \"object\",\n",
    "        \"properties\": {\n",
    "            \"make\": {\"type\": \"string\"},\n",
    "            \"model\": {\"type\": \"string\"},\n",
    "            \"body_type\": {\"type\": \"string\", \"description\": \"Sedan, SUV, etc.\"},\n",
    "            \"fuel\": {\"type\": \"string\", \"description\": \"Gas, Hybrid, EV\"},\n",
    "            \"max_price\": {\"type\": \"number\"},\n",
    "            \"city\": {\"type\": \"string\"},\n",
    "            \"features_csv\": {\n",
    "                \"type\": \"string\",\n",
    "                \"description\": \"Comma-separated features like 'awd, heated_seats'\",\n",
    "            },\n",
    "        },\n",
    "        \"required\": [],\n",
    "        \"additionalProperties\": False,\n",
    "    },\n",
    "}"
   ]
  },
  {
   "cell_type": "code",
   "execution_count": 16,
   "id": "3f984a0c-1341-4e84-9a9d-65556e02c28f",
   "metadata": {},
   "outputs": [],
   "source": [
    "#Slot function\n",
    "slots_function = {\n",
    "    \"name\": \"list_test_drive_slots\",\n",
    "    \"description\": \"List available test-drive slots in a city.\",\n",
    "    \"parameters\": {\n",
    "        \"type\": \"object\",\n",
    "        \"properties\": {\n",
    "            \"city\": {\"type\": \"string\", \"description\": \"City of the dealership\"},\n",
    "        },\n",
    "        \"required\": [\"city\"],\n",
    "        \"additionalProperties\": False,\n",
    "    },\n",
    "}"
   ]
  },
  {
   "cell_type": "code",
   "execution_count": 17,
   "id": "d730adf4-5a70-4e3e-885a-fae1e6724595",
   "metadata": {},
   "outputs": [],
   "source": [
    "#Booking function\n",
    "booking_function = {\n",
    "    \"name\": \"book_test_drive\",\n",
    "    \"description\": \"Book a test drive for a vehicle in a given city and slot.\",\n",
    "    \"parameters\": {\n",
    "        \"type\": \"object\",\n",
    "        \"properties\": {\n",
    "            \"city\": {\"type\": \"string\"},\n",
    "            \"slot_id\": {\"type\": \"string\"},\n",
    "            \"vehicle_id\": {\"type\": \"integer\"},\n",
    "            \"customer_name\": {\"type\": \"string\"},\n",
    "            \"customer_email\": {\"type\": \"string\"},\n",
    "        },\n",
    "        \"required\": [\"city\", \"slot_id\", \"vehicle_id\", \"customer_name\", \"customer_email\"],\n",
    "        \"additionalProperties\": False,\n",
    "    },\n",
    "}"
   ]
  },
  {
   "cell_type": "code",
   "execution_count": 18,
   "id": "e9a88c41-d4ad-41a2-9666-4258802cb66b",
   "metadata": {},
   "outputs": [],
   "source": [
    "#Payment function\n",
    "payment_function = {\n",
    "    \"name\": \"estimate_payment\",\n",
    "    \"description\": \"Estimate monthly payment for a car loan.\",\n",
    "    \"parameters\": {\n",
    "        \"type\": \"object\",\n",
    "        \"properties\": {\n",
    "            \"price\": {\"type\": \"number\"},\n",
    "            \"down_payment\": {\"type\": \"number\"},\n",
    "            \"apr_percent\": {\"type\": \"number\"},\n",
    "            \"term_months\": {\"type\": \"integer\"},\n",
    "        },\n",
    "        \"required\": [\"price\", \"down_payment\", \"apr_percent\", \"term_months\"],\n",
    "        \"additionalProperties\": False,\n",
    "    },\n",
    "}"
   ]
  },
  {
   "cell_type": "code",
   "execution_count": 19,
   "id": "06806c59-3c73-4098-8a41-0b9b1c95b9ba",
   "metadata": {},
   "outputs": [],
   "source": [
    "#All the tools in one single list\n",
    "tools = [\n",
    "    {\"type\": \"function\", \"function\": price_function},\n",
    "    {\"type\": \"function\", \"function\": inventory_function},\n",
    "    {\"type\": \"function\", \"function\": slots_function},\n",
    "    {\"type\": \"function\", \"function\": booking_function},\n",
    "    {\"type\": \"function\", \"function\": payment_function},\n",
    "]"
   ]
  },
  {
   "cell_type": "code",
   "execution_count": 20,
   "id": "c9b9c81c-d2e0-491b-94ab-238574552e4b",
   "metadata": {},
   "outputs": [],
   "source": [
    "#Tool Call Handler (routes by function name)\n",
    "\n",
    "def handle_tool_call(message):\n",
    "    call = message.tool_calls[0]\n",
    "    name = call.function.name\n",
    "    args = json.loads(call.function.arguments or \"{}\")\n",
    "\n",
    "    if name == \"get_vehicle_price\":\n",
    "        result = get_vehicle_price(**args)\n",
    "    elif name == \"search_inventory\":\n",
    "        result = search_inventory(**args)\n",
    "    elif name == \"list_test_drive_slots\":\n",
    "        result = list_test_drive_slots(**args)\n",
    "    elif name == \"book_test_drive\":\n",
    "        result = book_test_drive(**args)\n",
    "    elif name == \"estimate_payment\":\n",
    "        result = estimate_payment(**args)\n",
    "    else:\n",
    "        result = {\"error\": f\"Unknown tool {name}\"}\n",
    "\n",
    "    response = {\n",
    "        \"role\": \"tool\",\n",
    "        \"content\": json.dumps(result),\n",
    "        \"tool_call_id\": call.id,\n",
    "    }\n",
    "    return response"
   ]
  },
  {
   "cell_type": "code",
   "execution_count": 21,
   "id": "46bb9ce2-8e16-4994-a4c1-d60c77f5aa14",
   "metadata": {},
   "outputs": [],
   "source": [
    "#Chat Function\n",
    "\n",
    "def chat(message, history):\n",
    "    # Gradio `type=\"messages\"` passes history as list of dicts with role/content\n",
    "    messages = [{\"role\": \"system\", \"content\": system_message}] + history + [\n",
    "        {\"role\": \"user\", \"content\": message}\n",
    "    ]\n",
    "    response = openai.chat.completions.create(\n",
    "        model=MODEL,\n",
    "        messages=messages,\n",
    "        tools=tools\n",
    "    )\n",
    "\n",
    "    # Single-step function call (mirrors your example)\n",
    "    if response.choices[0].finish_reason == \"tool_calls\":\n",
    "        tool_message = response.choices[0].message\n",
    "        tool_response = handle_tool_call(tool_message)\n",
    "        messages.append(tool_message)\n",
    "        messages.append(tool_response)\n",
    "        response = openai.chat.completions.create(model=MODEL, messages=messages)\n",
    "\n",
    "    return response.choices[0].message.content"
   ]
  },
  {
   "cell_type": "code",
   "execution_count": 22,
   "id": "4850db9c-9b71-4e38-a926-f5018b255cfe",
   "metadata": {},
   "outputs": [
    {
     "name": "stdout",
     "output_type": "stream",
     "text": [
      "* Running on local URL:  http://127.0.0.1:7863\n",
      "* To create a public link, set `share=True` in `launch()`.\n"
     ]
    },
    {
     "data": {
      "text/html": [
       "<div><iframe src=\"http://127.0.0.1:7863/\" width=\"100%\" height=\"500\" allow=\"autoplay; camera; microphone; clipboard-read; clipboard-write;\" frameborder=\"0\" allowfullscreen></iframe></div>"
      ],
      "text/plain": [
       "<IPython.core.display.HTML object>"
      ]
     },
     "metadata": {},
     "output_type": "display_data"
    },
    {
     "data": {
      "text/plain": []
     },
     "execution_count": 22,
     "metadata": {},
     "output_type": "execute_result"
    },
    {
     "name": "stdout",
     "output_type": "stream",
     "text": [
      "Tool get_vehicle_price called for Toyota Corolla 2021\n",
      "Tool get_vehicle_price called for Toyota Corolla 2021\n"
     ]
    }
   ],
   "source": [
    "#Launching UI\n",
    "gr.ChatInterface(fn=chat, type=\"messages\").launch()"
   ]
  },
  {
   "cell_type": "code",
   "execution_count": null,
   "id": "609f65d3-740d-422b-b03d-7a468980bd89",
   "metadata": {},
   "outputs": [],
   "source": []
  }
 ],
 "metadata": {
  "kernelspec": {
   "display_name": "Python 3 (ipykernel)",
   "language": "python",
   "name": "python3"
  },
  "language_info": {
   "codemirror_mode": {
    "name": "ipython",
    "version": 3
   },
   "file_extension": ".py",
   "mimetype": "text/x-python",
   "name": "python",
   "nbconvert_exporter": "python",
   "pygments_lexer": "ipython3",
   "version": "3.11.13"
  }
 },
 "nbformat": 4,
 "nbformat_minor": 5
}
