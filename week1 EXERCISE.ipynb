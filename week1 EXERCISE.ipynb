{
 "cells": [
  {
   "cell_type": "markdown",
   "id": "fe12c203-e6a6-452c-a655-afb8a03a4ff5",
   "metadata": {},
   "source": [
    "# End of week 1 exercise\n",
    "\n",
    "To demonstrate your familiarity with OpenAI API, and also Ollama, build a tool that takes a technical question,  \n",
    "and responds with an explanation. This is a tool that you will be able to use yourself during the course!"
   ]
  },
  {
   "cell_type": "code",
   "execution_count": 8,
   "id": "c1070317-3ed9-4659-abe3-828943230e03",
   "metadata": {},
   "outputs": [],
   "source": [
    "# imports\n",
    "import os\n",
    "import requests\n",
    "import json\n",
    "from typing import List\n",
    "from dotenv import load_dotenv\n",
    "from bs4 import BeautifulSoup\n",
    "from IPython.display import Markdown, display, update_display\n",
    "from openai import OpenAI\n",
    "import ollama"
   ]
  },
  {
   "cell_type": "code",
   "execution_count": 9,
   "id": "4a456906-915a-4bfd-bb9d-57e505c5093f",
   "metadata": {},
   "outputs": [],
   "source": [
    "# constants\n",
    "\n",
    "MODEL_GPT = 'gpt-4o-mini'\n",
    "MODEL_LLAMA = 'llama3.2'"
   ]
  },
  {
   "cell_type": "code",
   "execution_count": 10,
   "id": "a8d7923c-5f28-4c30-8556-342d7c8497c1",
   "metadata": {},
   "outputs": [
    {
     "name": "stdout",
     "output_type": "stream",
     "text": [
      "API key looks good so far\n"
     ]
    }
   ],
   "source": [
    "# set up environment\n",
    "load_dotenv(override=True)\n",
    "api_key = os.getenv('OPENAI_API_KEY')\n",
    "\n",
    "if api_key and api_key.startswith('sk-proj-') and len(api_key)>10:\n",
    "    print(\"API key looks good so far\")\n",
    "else:\n",
    "    print(\"There might be a problem with your API key? Please visit the troubleshooting notebook!\")"
   ]
  },
  {
   "cell_type": "code",
   "execution_count": 11,
   "id": "a25f2a04-fffb-470a-b632-45ccb267b8cd",
   "metadata": {},
   "outputs": [],
   "source": [
    "client = OpenAI()"
   ]
  },
  {
   "cell_type": "code",
   "execution_count": 22,
   "id": "3f0d0137-52b0-47a8-81a8-11a90a010798",
   "metadata": {},
   "outputs": [],
   "source": [
    "# here is the question; type over this to ask something new\n",
    "\n",
    "question = \"\"\"\n",
    "Please explain what this code does and why:\n",
    "def mystery(nums):\n",
    "    left, right = 0, len(nums) - 1\n",
    "    while left < right:\n",
    "        nums[left], nums[right] = nums[right], nums[left]\n",
    "        left += 1\n",
    "        right -= 1\n",
    "    return nums\n",
    "\"\"\""
   ]
  },
  {
   "cell_type": "code",
   "execution_count": 23,
   "id": "60ce7000-a4a5-4cce-a261-e75ef45063b4",
   "metadata": {},
   "outputs": [
    {
     "name": "stdout",
     "output_type": "stream",
     "text": [
      "GPT-4o-mini says:\n",
      "\n",
      "This code defines a function called `mystery` that takes a list of numbers (`nums`) as input and reverses the order of the elements in that list. Here’s a breakdown of how it works:\n",
      "\n",
      "1. **Initialization of Pointers**:\n",
      "   - Two pointers, `left` and `right`, are initialized. `left` starts at the beginning of the list (index 0), while `right` starts at the end of the list (index `len(nums) - 1`).\n",
      "\n",
      "2. **While Loop**:\n",
      "   - The loop `while left < right:` continues executing as long as the `left` pointer is less than the `right` pointer. This condition ensures that elements are swapped until they potentially meet in the middle.\n",
      "\n",
      "3. **Swapping Elements**:\n",
      "   - Inside the loop, the elements at the `left` and `right` indices are swapped using the assignment: `nums[left], nums[right] = nums[right], nums[left]`. This effectively exchanges the values of the two positions in the list.\n",
      "   \n",
      "4. **Moving the Pointers**:\n",
      "   - After swapping, the `left` pointer is incremented by 1 (`left += 1`), and the `right` pointer is decremented by 1 (`right -= 1`). This moves both pointers closer to the center of the list.\n",
      "\n",
      "5. **Completion and Return**:\n",
      "   - Once the `left` pointer is no longer less than the `right` pointer, the loop exits, and the function returns the modified list, which is now reversed.\n",
      "\n",
      "### Example\n",
      "If you call the function with:\n",
      "```python\n",
      "result = mystery([1, 2, 3, 4, 5])\n",
      "```\n",
      "The steps would be:\n",
      "- Initial list: `[1, 2, 3, 4, 5]`\n",
      "- 1st swap (`left=0`, `right=4`): `[5, 2, 3, 4, 1]`\n",
      "- 2nd swap (`left=1`, `right=3`): `[5, 4, 3, 2, 1]`\n",
      "- The loop stops when `left` is no longer less than `right`.\n",
      "\n",
      "### Conclusion\n",
      "In essence, this function effectively reverses the input list in place (meaning it modifies the original list rather than creating a new one) and returns the reversed list.\n",
      "--------------------------------------------------\n"
     ]
    }
   ],
   "source": [
    "# Get gpt-4o-mini to answer, with streaming\n",
    "print(\"GPT-4o-mini says:\\n\")\n",
    "\n",
    "stream = client.chat.completions.create(\n",
    "    model=MODEL_GPT,\n",
    "    messages=[\n",
    "        {\"role\": \"system\", \"content\": \"You are a Python expert who explains code clearly and concisely.\"},\n",
    "        {\"role\": \"user\", \"content\": question}\n",
    "    ],\n",
    "    stream=True\n",
    ")\n",
    "\n",
    "for chunk in stream:\n",
    "    if chunk.choices[0].delta.content is not None:\n",
    "        print(chunk.choices[0].delta.content, end=\"\", flush=True)\n",
    "\n",
    "print(\"\\n\" + \"-\" * 50)\n",
    "\n",
    "\n",
    "\n",
    "    # for chunk in stream:\n",
    "    #     response += chunk.choices[0].delta.content or ''\n",
    "    #     response = response.replace(\"```\",\"\").replace(\"markdown\", \"\")\n",
    "    #     update_display(Markdown(response), display_id=display_handle.display_id)\n",
    "\n",
    "      "
   ]
  },
  {
   "cell_type": "code",
   "execution_count": 24,
   "id": "8f7c8ea8-4082-4ad0-8751-3301adcf6538",
   "metadata": {},
   "outputs": [
    {
     "name": "stdout",
     "output_type": "stream",
     "text": [
      "\n",
      "Llama 3.2 says:\n",
      "\n",
      "**Code Explanation: In-Place Swap of a Sorted Array**\n",
      "\n",
      "This code implements an in-place sorting algorithm called \"in-place bubble sort\" or \"in-place swap sort\". It's a simple, yet inefficient sorting technique.\n",
      "\n",
      "### Code Breakdown:\n",
      "\n",
      "```python\n",
      "def mystery(nums):\n",
      "```\n",
      "\n",
      "The function takes a single argument `nums`, which is expected to be a list of numbers.\n",
      "\n",
      "```python\n",
      "left, right = 0, len(nums) - 1\n",
      "```\n",
      "\n",
      "Two pointers, `left` and `right`, are initialized to the beginning and end of the array, respectively. These pointers will be used to swap adjacent elements in the array.\n",
      "\n",
      "```python\n",
      "while left < right:\n",
      "    nums[left], nums[right] = nums[right], nums[left]\n",
      "    left += 1\n",
      "    right -= 1\n",
      "```\n",
      "\n",
      "The algorithm enters a loop that continues until `left` is no longer less than `right`. In each iteration, the code swaps the elements at indices `left` and `right`, then increments `left` and decrements `right`.\n",
      "\n",
      "**Why does this work?**\n",
      "\n",
      "At first glance, it may seem counterintuitive to swap adjacent elements in a decreasing manner. However, here's the key insight:\n",
      "\n",
      "1. Initially, the largest element is at index 0 (left) and the smallest element is at index -1 (right).\n",
      "2. In each iteration, we swap the leftmost element with the rightmost element.\n",
      "3. After swapping, the leftmost element becomes smaller than the next one to its right (at index `left` + 1), so it \"moves\" to a position where it can be compared with elements that are larger than itself.\n",
      "4. The process repeats until all elements have been swapped and sorted.\n",
      "\n",
      "**Example Walkthrough:**\n",
      "\n",
      "Suppose we have an array `[5, 2, 8, 3]`.\n",
      "\n",
      "Initially:\n",
      "- `left` = 0\n",
      "- `right` = 3\n",
      "\n",
      "First iteration:\n",
      "- Swap elements at indices 0 and 3: `[2, 5, 8, 3]`\n",
      "- Update pointers: `left` = 1, `right` = 2\n",
      "\n",
      "Second iteration:\n",
      "- Swap elements at indices 1 and 2: `[2, 3, 5, 8]`\n",
      "- Update pointers: `left` = 2, `right` = 1\n",
      "\n",
      "Third iteration:\n",
      "- Swap elements at indices 2 and 1: `[2, 3, 8, 5]`\n",
      "- Update pointers: `left` = 3, `right` = 0\n",
      "\n",
      "Fourth iteration:\n",
      "- Swap elements at indices 3 and 0: `[2, 3, 5, 8]`\n",
      "- Update pointers: `left` = 4 (out of bounds!), so the loop ends.\n",
      "\n",
      "**Final Result:**\n",
      "\n",
      "The sorted array is `[2, 3, 5, 8]`.\n",
      "\n",
      "In conclusion, this code demonstrates a simple in-place sorting algorithm using swap operations. While not efficient for large arrays, it can be useful for educational purposes or when memory is limited.\n",
      "--------------------------------------------------\n"
     ]
    }
   ],
   "source": [
    "# Get Llama 3.2 to answer\n",
    "print(\"\\nLlama 3.2 says:\\n\")\n",
    "\n",
    "stream = ollama.chat(\n",
    "    model=MODEL_LLAMA,\n",
    "    messages=[\n",
    "        {\"role\": \"system\", \"content\": \"You are a helpful Python tutor who explains code step-by-step.\"},\n",
    "        {\"role\": \"user\", \"content\": question}\n",
    "    ],\n",
    "    stream=True\n",
    ")\n",
    "\n",
    "for chunk in stream:\n",
    "    if \"message\" in chunk and \"content\" in chunk[\"message\"]:\n",
    "        print(chunk[\"message\"][\"content\"], end=\"\", flush=True)\n",
    "\n",
    "print(\"\\n\" + \"-\" * 50)"
   ]
  },
  {
   "cell_type": "code",
   "execution_count": null,
   "id": "3389649c-372d-4599-a8c9-b4a63db9394b",
   "metadata": {},
   "outputs": [],
   "source": [
    "#Let's try something new by giving different question\n"
   ]
  }
 ],
 "metadata": {
  "kernelspec": {
   "display_name": "Python 3 (ipykernel)",
   "language": "python",
   "name": "python3"
  },
  "language_info": {
   "codemirror_mode": {
    "name": "ipython",
    "version": 3
   },
   "file_extension": ".py",
   "mimetype": "text/x-python",
   "name": "python",
   "nbconvert_exporter": "python",
   "pygments_lexer": "ipython3",
   "version": "3.11.13"
  }
 },
 "nbformat": 4,
 "nbformat_minor": 5
}
